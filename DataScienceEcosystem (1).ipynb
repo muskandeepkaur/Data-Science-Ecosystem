{
 "cells": [
  {
   "cell_type": "markdown",
   "id": "c9b18d33-ab6c-4daa-911d-b0fbdf88e057",
   "metadata": {},
   "source": [
    "# Data Science Tools and Ecosystems"
   ]
  },
  {
   "cell_type": "markdown",
   "id": "e917b1c4-a4dc-4151-85a6-047ff704019d",
   "metadata": {},
   "source": [
    "In this notebook, Data Science Tools and Ecosystem are summarized."
   ]
  },
  {
   "cell_type": "markdown",
   "id": "92172072-9731-4526-b57f-c9dc76c629af",
   "metadata": {},
   "source": [
    "**Objectives:**<br>\n",
    "   *Some popular Data Science languages<br>\n",
    "   *Some commonly used libraries by Data Scientists<br>\n",
    "   *Data Science Tools<br>\n",
    "   *Examples of some arithmetic expressions in Python\n",
    "   "
   ]
  },
  {
   "cell_type": "markdown",
   "id": "dcca9d78-7452-40b0-8359-c89252c3f6f4",
   "metadata": {},
   "source": [
    "Some of the popular Data Science languages that Data Scientists use are:\n",
    "  1. Python\n",
    "  2. R\n",
    "  3. SQL\n",
    "  4. Scala"
   ]
  },
  {
   "cell_type": "markdown",
   "id": "0e30fa92-16a8-4f04-99db-896c78163ac5",
   "metadata": {},
   "source": [
    "Some of the commonly used libraries used by Data Scientists include:\n",
    "  1. Pandas\n",
    "  2. NumPy\n",
    "  3. Matplotlib\n",
    "  4. Seaborn\n",
    "  5. Scikit-learn\n",
    "  6. Keras\n",
    "  7. TensorFlow\n",
    "  8. PyTorch\n",
    "  9. ggplot2"
   ]
  },
  {
   "cell_type": "markdown",
   "id": "412f6d0f-0a49-4704-a216-9d101e86772a",
   "metadata": {},
   "source": [
    "|Data Science Tools|\n",
    "|------------------|\n",
    "|      MySQL       |\n",
    "|   Apache AirFlow |\n",
    "|    Kubernetes    |\n"
   ]
  },
  {
   "cell_type": "markdown",
   "id": "af0163fb-ec83-4465-9075-a887fc2030ec",
   "metadata": {
    "tags": []
   },
   "source": [
    "### Below are a few examples of evaluating arithmetic expressions in Python."
   ]
  },
  {
   "cell_type": "code",
   "execution_count": 2,
   "id": "fd80692b-5703-41ba-8b05-f9a0dd3cd02c",
   "metadata": {
    "tags": []
   },
   "outputs": [
    {
     "data": {
      "text/plain": [
       "17"
      ]
     },
     "execution_count": 2,
     "metadata": {},
     "output_type": "execute_result"
    }
   ],
   "source": [
    "#This a simple arithmetic expression to mutiply then add integers\n",
    "(3*4)+5"
   ]
  },
  {
   "cell_type": "code",
   "execution_count": 4,
   "id": "4ffadd78-0480-414c-b58e-7f1668996939",
   "metadata": {
    "tags": []
   },
   "outputs": [
    {
     "name": "stdout",
     "output_type": "stream",
     "text": [
      "3.3333333333333335\n"
     ]
    }
   ],
   "source": [
    "#Coverting 200 minutes into hours\n",
    "expression = (1/60)*200\n",
    "print(expression)"
   ]
  },
  {
   "cell_type": "markdown",
   "id": "80e98d2f-6a75-4538-89ed-9ea97480815d",
   "metadata": {},
   "source": [
    "## Author\n",
    "Muskan Deep Kaur"
   ]
  }
 ],
 "metadata": {
  "kernelspec": {
   "display_name": "Python 3 (ipykernel)",
   "language": "python",
   "name": "python3"
  },
  "language_info": {
   "codemirror_mode": {
    "name": "ipython",
    "version": 3
   },
   "file_extension": ".py",
   "mimetype": "text/x-python",
   "name": "python",
   "nbconvert_exporter": "python",
   "pygments_lexer": "ipython3",
   "version": "3.11.5"
  }
 },
 "nbformat": 4,
 "nbformat_minor": 5
}
